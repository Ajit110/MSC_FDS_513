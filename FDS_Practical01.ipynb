{
  "nbformat": 4,
  "nbformat_minor": 0,
  "metadata": {
    "colab": {
      "name": "Untitled0.ipynb",
      "provenance": [],
      "collapsed_sections": [],
      "authorship_tag": "ABX9TyMtWlClbx20xRElH3yNiCV5",
      "include_colab_link": true
    },
    "kernelspec": {
      "name": "python3",
      "display_name": "Python 3"
    },
    "language_info": {
      "name": "python"
    }
  },
  "cells": [
    {
      "cell_type": "markdown",
      "metadata": {
        "id": "view-in-github",
        "colab_type": "text"
      },
      "source": [
        "<a href=\"https://colab.research.google.com/github/Ajit110/MSC_FDS_513/blob/main/FDS_Practical01.ipynb\" target=\"_parent\"><img src=\"https://colab.research.google.com/assets/colab-badge.svg\" alt=\"Open In Colab\"/></a>"
      ]
    },
    {
      "cell_type": "code",
      "execution_count": null,
      "metadata": {
        "id": "LCyrRld-zY_A"
      },
      "outputs": [],
      "source": [
        "import pandas as pd\n",
        "Locaton = \"D:\\Ajit (FDS)\\student-mat.csv - student-mat.csv\"\n",
        "df = pd.read_csv(Location, header=None)\n",
        "df.head()"
      ]
    }
  ]
}